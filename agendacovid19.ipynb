{
 "cells": [
  {
   "cell_type": "markdown",
   "metadata": {},
   "source": [
    "# Introdução\n",
    "\n",
    "A Prefeitura de Fortaleza-CE divulga, por meio da Secretaria Municipal da Saúde, as listas de agendados, cadastrados e vacinados no portal de informações da prefeitura.\n",
    "\n",
    "Este script baixa os arquivos PDF que contém a [listas de agendados](https://coronavirus.fortaleza.ce.gov.br/vacinacao.html) da vacina contra o COVID19 em Fortaleza/CE, procura pelo nome dado e envia o resultado da busca para uma conta push bullet através da sua API\n",
    "\n",
    "Autor: Antonio Alisio de Meneses Cordeiro - alisio.meneses@gmail.com\n",
    "\n",
    "![Screenshot](screenshot-coronaportal.png)\n",
    "\n",
    "# Pré-requisitos\n",
    "\n",
    "## Linux\n",
    "* Conta [pushbullet](https://www.pushbullet.com)\n",
    "* [Token de acesso](https://docs.pushbullet.com) do pushbullet\n",
    "* Computador linux com os seguinte pacotes instalados:\n",
    "  * Python3\n",
    "  * pdfgrep\n",
    "  * wget\n",
    "\n",
    "## MacOS\n",
    "* Conta [pushbullet](https://www.pushbullet.com)\n",
    "* Token de acesso do [pushbullet](https://docs.pushbullet.com)\n",
    "* Gerenciador de pacotes [homebrew](https://brew.sh)\n",
    "* Computador Mac com os seguinte pacotes instalados:\n",
    "  * Python3\n",
    "  * pdfgrep\n",
    "  * wget\n",
    "\n",
    "# Instalação\n",
    "\n",
    "## Linux\n",
    "\n",
    "Instalar dependencias (pacotes e bibliotecas) no linux debian like:\n",
    "```sh\n",
    "pip install -r requirements.txt\n",
    "apt install wget pdfgrep\n",
    "```\n",
    "## MacOS\n",
    "\n",
    "Instalar dependencias (pacotes e bibliotecas) no MacOS:\n",
    "```sh\n",
    "pip3 install -r requirements.txt\n",
    "brew install pdfgrep\n",
    "```\n",
    "\n",
    "# Configuração\n",
    "\n",
    "Para obter o token de acesso do pushbullet basta:\n",
    "\n",
    "1. Acessar e logar no pushbullet pelo browser\n",
    "1. Clicar na seção 'Settings > Account'\n",
    "1. Clicar no botão 'Create Access Token'\n",
    "1. Copiar o token gerado\n",
    "\n",
    "Conforme ilustrado na animação a seguir :\n",
    "\n",
    "![](pushbullet_access_token.gif)\n",
    "\n",
    "Obs. : O token utilizado na animação não é válido.\n",
    "\n",
    "# Uso:\n",
    "\n",
    "```sh\n",
    "./agendacovid19.py -n '<NOME_COMPLETO>' -t '<PUSHBULLET_TOKEN>'\n",
    "```\n",
    "\n",
    "Caso exista agendamento para o nome dado, o script enviará as informações para o pushbullet e para a saída padrão, conforme o exemplo a seguir:\n",
    "\n",
    "```sh\n",
    "./agendacovid19.py -n 'MARIA DO SOCORRO FULANA SICRANA' -t 'asdkjbadbakjbdbkad '\n",
    "Mensagem enviada para pushbullet\n",
    "Encontrado agendamento para MARIA DO SOCORRO FULANA SICRANA: ./arquivos_baixados/03.04Lista_Agendados_03.04.pdf:63.0      MARIA DO SOCORRO FULANA SICRANA                ALDEOTA                UAPS DR. ROBERTO DA SILVA BRUNO        2021-04-03   10:00:00   1   1956-11-19\n",
    "```\n",
    "\n",
    "# Limitações:\n",
    "\n",
    "Testado no Ubuntu 18.04 e no MacOS BigSur\n",
    "\n",
    "# Melhorias:\n",
    "\n",
    "Todas. Este script é extremamente simples e tem como alvo não programadores ou\n",
    "curiosos querendo aprender sobre linux, python e web API.\n",
    "\n",
    "# Referencias:\n",
    "\n",
    "* https://coronavirus.fortaleza.ce.gov.br/listaVacinacao.html\n",
    "* https://docs.pushbullet.com\n",
    "\n",
    "# Licença\n",
    "\n",
    "Checar arquivo LICENSE"
   ]
  },
  {
   "cell_type": "code",
   "execution_count": 34,
   "metadata": {},
   "outputs": [
    {
     "name": "stdout",
     "output_type": "stream",
     "text": [
      "Requirement already satisfied: beautifulsoup4==4.9.3 in /usr/local/lib/python3.9/site-packages (4.9.3)\n",
      "Requirement already satisfied: Flask==1.1.2 in /usr/local/lib/python3.9/site-packages (1.1.2)\n",
      "Requirement already satisfied: lxml==4.6.3 in /usr/local/lib/python3.9/site-packages (4.6.3)\n",
      "Requirement already satisfied: pushbullet.py==0.12.0 in /usr/local/lib/python3.9/site-packages (0.12.0)\n",
      "Requirement already satisfied: requests==2.25.1 in /usr/local/lib/python3.9/site-packages (2.25.1)\n",
      "Requirement already satisfied: soupsieve>1.2 in /usr/local/lib/python3.9/site-packages (from beautifulsoup4==4.9.3) (2.2.1)\n",
      "Requirement already satisfied: Werkzeug>=0.15 in /usr/local/lib/python3.9/site-packages (from Flask==1.1.2) (1.0.1)\n",
      "Requirement already satisfied: Jinja2>=2.10.1 in /usr/local/lib/python3.9/site-packages (from Flask==1.1.2) (2.11.2)\n",
      "Requirement already satisfied: itsdangerous>=0.24 in /usr/local/lib/python3.9/site-packages (from Flask==1.1.2) (1.1.0)\n",
      "Requirement already satisfied: click>=5.1 in /usr/local/lib/python3.9/site-packages (from Flask==1.1.2) (7.1.2)\n",
      "Requirement already satisfied: python-magic in /usr/local/lib/python3.9/site-packages (from pushbullet.py==0.12.0) (0.4.22)\n",
      "Requirement already satisfied: websocket-client>=0.53.0 in /usr/local/lib/python3.9/site-packages (from pushbullet.py==0.12.0) (0.58.0)\n",
      "Requirement already satisfied: idna<3,>=2.5 in /usr/local/lib/python3.9/site-packages (from requests==2.25.1) (2.10)\n",
      "Requirement already satisfied: chardet<5,>=3.0.2 in /usr/local/lib/python3.9/site-packages (from requests==2.25.1) (4.0.0)\n",
      "Requirement already satisfied: certifi>=2017.4.17 in /usr/local/lib/python3.9/site-packages (from requests==2.25.1) (2020.12.5)\n",
      "Requirement already satisfied: urllib3<1.27,>=1.21.1 in /usr/local/lib/python3.9/site-packages (from requests==2.25.1) (1.26.4)\n",
      "Requirement already satisfied: MarkupSafe>=0.23 in /usr/local/lib/python3.9/site-packages (from Jinja2>=2.10.1->Flask==1.1.2) (1.1.1)\n",
      "Requirement already satisfied: six in /usr/local/lib/python3.9/site-packages (from websocket-client>=0.53.0->pushbullet.py==0.12.0) (1.15.0)\n"
     ]
    }
   ],
   "source": [
    "!pip3 install beautifulsoup4==4.9.3 Flask==1.1.2 lxml==4.6.3 pushbullet.py==0.12.0 requests==2.25.1\n"
   ]
  },
  {
   "cell_type": "code",
   "execution_count": 35,
   "metadata": {},
   "outputs": [],
   "source": [
    "# importar bibliotecas\n",
    "from bs4 import BeautifulSoup\n",
    "from flask import Flask\n",
    "from pushbullet import Pushbullet\n",
    "\n",
    "import requests\n",
    "import os\n",
    "import getopt,sys\n",
    "import subprocess"
   ]
  },
  {
   "cell_type": "markdown",
   "metadata": {},
   "source": [
    "Definir constantes"
   ]
  },
  {
   "cell_type": "code",
   "execution_count": 50,
   "metadata": {},
   "outputs": [],
   "source": [
    "# A URL a seguir contém um XML gerado dinamicamente listando os\n",
    "# arquivos PDF com os agendamentos\n",
    "url = 'https://spreadsheets.google.com/feeds/list/1IJBDu8dRGLkBgX72sRWKY6R9GfefsaDCXBd3Dz9PZNs/14/public/values'\n",
    "pushbullet_token='<TOKEN_PUSHBULLET>'\n",
    "nome = 'FULANO SICLANO DA SILVA'"
   ]
  },
  {
   "cell_type": "code",
   "execution_count": 51,
   "metadata": {},
   "outputs": [],
   "source": [
    "## Variáveis recebidas pela linha de comando\n",
    "full_cmd_arguments = sys.argv\n",
    "argument_list = full_cmd_arguments[1:]\n",
    "short_options = \"t:n:\"\n",
    "long_options = [\"token\", \"nome=\"]"
   ]
  },
  {
   "cell_type": "code",
   "execution_count": 52,
   "metadata": {},
   "outputs": [],
   "source": [
    "try:\n",
    "    pasta_de_download\n",
    "except:\n",
    "    pasta_de_download = './arquivos_baixados'"
   ]
  },
  {
   "cell_type": "markdown",
   "metadata": {},
   "source": [
    "Criar lista contendo todos os endereços dos arquivos PDF para download listados no endereço da variável url"
   ]
  },
  {
   "cell_type": "code",
   "execution_count": 53,
   "metadata": {},
   "outputs": [],
   "source": [
    "def scrape_lista_de_pdf(url):\n",
    "    pdf_doc = requests.get(url).text\n",
    "    soup = BeautifulSoup(pdf_doc, 'xml')\n",
    "    lista_de_pdf = [ item.pdf.text for item in soup.find_all('entry') ]\n",
    "    return lista_de_pdf"
   ]
  },
  {
   "cell_type": "markdown",
   "metadata": {},
   "source": [
    "Criar pasta de download"
   ]
  },
  {
   "cell_type": "code",
   "execution_count": 54,
   "metadata": {},
   "outputs": [],
   "source": [
    "def criar_pasta_de_download(pasta_de_download):\n",
    "    try:\n",
    "        if not os.path.isdir(pasta_de_download):\n",
    "            os.mkdir(pasta_de_download)\n",
    "    except OSError:\n",
    "        print (\"Criação do diretório de download falhou %s \" % pasta_de_download)"
   ]
  },
  {
   "cell_type": "markdown",
   "metadata": {},
   "source": [
    "Baixar os arquivos somente se já não existirem localmente"
   ]
  },
  {
   "cell_type": "code",
   "execution_count": 55,
   "metadata": {},
   "outputs": [],
   "source": [
    "def download_arquivo(url,pasta_de_download='.'):\n",
    "    nome_do_arquivo = url.rsplit('/', 1)[-1]\n",
    "    caminho = os.path.join(pasta_de_download, nome_do_arquivo)\n",
    "    try:\n",
    "        if not os.path.isfile(caminho):\n",
    "            arquivo_stream = requests.get(url, stream=True)\n",
    "            with open(caminho, 'wb') as local_file:\n",
    "                for data in arquivo_stream:\n",
    "                    local_file.write(data)\n",
    "    except:\n",
    "        print('Não foi possível salvar o arquivo na url {}'.format(url))"
   ]
  },
  {
   "cell_type": "markdown",
   "metadata": {},
   "source": [
    "A função a seguir executa o aplicativo 'pdfgrep' instalado no sistema p/buscar o nome nos arquivos PDF"
   ]
  },
  {
   "cell_type": "code",
   "execution_count": 56,
   "metadata": {},
   "outputs": [],
   "source": [
    "def procura_nome_pdfgrep(nome, pasta='.'):\n",
    "    resultado_da_busca = subprocess.getoutput('pdfgrep -i \"{}\" {}/*.pdf 2> /dev/null'.format(nome, pasta))\n",
    "    return resultado_da_busca"
   ]
  },
  {
   "cell_type": "code",
   "execution_count": 57,
   "metadata": {},
   "outputs": [],
   "source": [
    "def ajuda():\n",
    "    print(\"uso: {} -n <NOME_A_SER_BUSCADO> -t <TOKEN_PUSHBULLET>\".format(sys.argv[0]))"
   ]
  },
  {
   "cell_type": "code",
   "execution_count": 58,
   "metadata": {},
   "outputs": [],
   "source": [
    "## Inicio"
   ]
  },
  {
   "cell_type": "code",
   "execution_count": 59,
   "metadata": {},
   "outputs": [],
   "source": [
    "criar_pasta_de_download(pasta_de_download)"
   ]
  },
  {
   "cell_type": "code",
   "execution_count": 60,
   "metadata": {
    "scrolled": true
   },
   "outputs": [],
   "source": [
    "lista_de_links=scrape_lista_de_pdf(url)\n",
    "for link in lista_de_links:\n",
    "    download_arquivo(link, pasta_de_download)"
   ]
  },
  {
   "cell_type": "markdown",
   "metadata": {},
   "source": [
    "Popular as variáveis com as opções passadas"
   ]
  },
  {
   "cell_type": "code",
   "execution_count": null,
   "metadata": {},
   "outputs": [],
   "source": [
    "resultado = procura_nome_pdfgrep(nome, pasta_de_download)\n",
    "pb = Pushbullet(pushbullet_token)\n",
    "\n",
    "if resultado != \"\":\n",
    "    titulo = \"Encontrado agendamento para {}\".format(nome)\n",
    "    push = pb.push_note(titulo, resultado)\n",
    "    print('Mensagem enviada para pushbullet')\n",
    "    print(\"Encontrado agendamento para {}: {}\".format(nome,resultado))\n",
    "else:\n",
    "    print (\"Não foi encontrado agendamento para {}\".format(nome))\n"
   ]
  },
  {
   "cell_type": "code",
   "execution_count": null,
   "metadata": {},
   "outputs": [],
   "source": []
  },
  {
   "cell_type": "code",
   "execution_count": null,
   "metadata": {},
   "outputs": [],
   "source": []
  }
 ],
 "metadata": {
  "kernelspec": {
   "display_name": "Python 3",
   "language": "python",
   "name": "python3"
  },
  "language_info": {
   "codemirror_mode": {
    "name": "ipython",
    "version": 3
   },
   "file_extension": ".py",
   "mimetype": "text/x-python",
   "name": "python",
   "nbconvert_exporter": "python",
   "pygments_lexer": "ipython3",
   "version": "3.8.8"
  }
 },
 "nbformat": 4,
 "nbformat_minor": 4
}

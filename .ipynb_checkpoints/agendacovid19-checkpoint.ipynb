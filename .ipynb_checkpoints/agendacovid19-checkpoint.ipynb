{
 "cells": [
  {
   "cell_type": "markdown",
   "metadata": {},
   "source": [
    "## Bibliotecas necessárias:\n",
    "* beautifulsoup4\n",
    "* lxml   \n",
    "* pandas\n",
    "* pdfplumber\n",
    "* requests\n",
    "* PyPDF2\n",
    "* re\n",
    "\n",
    "## Instalação\n",
    "```sh \n",
    "pip3 install lxml beautifulsoup4 requests pandas pdfplumber\n",
    "```"
   ]
  },
  {
   "cell_type": "code",
   "execution_count": 1,
   "metadata": {},
   "outputs": [],
   "source": [
    "from bs4 import BeautifulSoup\n",
    "\n",
    "import PyPDF2\n",
    "import re\n",
    "import requests\n",
    "import pdfplumber\n",
    "import urllib\n",
    "import os"
   ]
  },
  {
   "cell_type": "code",
   "execution_count": 2,
   "metadata": {},
   "outputs": [],
   "source": [
    "url = 'https://spreadsheets.google.com/feeds/list/1IJBDu8dRGLkBgX72sRWKY6R9GfefsaDCXBd3Dz9PZNs/14/public/values'\n",
    "pasta_de_download = './arquivos_baixados'"
   ]
  },
  {
   "cell_type": "markdown",
   "metadata": {},
   "source": [
    "Criar lista contendo todos os endereços dos arquivos PDF para download listados no endereço da variável url"
   ]
  },
  {
   "cell_type": "code",
   "execution_count": 3,
   "metadata": {},
   "outputs": [],
   "source": [
    "def scrape_lista_de_pdf(url):\n",
    "    pdf_doc = requests.get(url).text\n",
    "    soup = BeautifulSoup(pdf_doc, 'xml')\n",
    "    lista_de_pdf = [ item.pdf.text for item in soup.find_all('entry') ]\n",
    "    return lista_de_pdf"
   ]
  },
  {
   "cell_type": "markdown",
   "metadata": {},
   "source": [
    "Baixar os arquivos somente se já não existirem localmente"
   ]
  },
  {
   "cell_type": "code",
   "execution_count": 4,
   "metadata": {},
   "outputs": [],
   "source": [
    "def download_arquivo(url,pasta_de_download='.'):\n",
    "    nome = url.rsplit('/', 1)[-1]\n",
    "    arquivo = os.path.join(pasta_de_download, nome)\n",
    "    try:\n",
    "        if not os.path.isdir(pasta_de_download):\n",
    "            os.mkdir(pasta_de_download) \n",
    "    except OSError:\n",
    "        print (\"Criação do diretório de download falhou %s \" % pasta_de_download)\n",
    "    else:\n",
    "        print (\"Salvando arquivo {} em {} \".format(nome, pasta_de_download))\n",
    "\n",
    "    if not os.path.isfile(arquivo):\n",
    "        urllib.request.urlretrieve(url, arquivo)\n",
    "\n",
    "\n",
    "    "
   ]
  },
  {
   "cell_type": "code",
   "execution_count": 5,
   "metadata": {
    "scrolled": true
   },
   "outputs": [
    {
     "name": "stdout",
     "output_type": "stream",
     "text": [
      "Salvando arquivo 25.03-Castelo-25.03.2021.pdf em ./arquivos_baixados \n",
      "Salvando arquivo 25.03-CEC-25.03.2021.pdf em ./arquivos_baixados \n",
      "Salvando arquivo 25.03-RIOMAR-FORTALEZA-PAPICU-25.03.2021.pdf em ./arquivos_baixados \n",
      "Salvando arquivo 25.03-RIOMAR-KENNEDY-25.03.2021.pdf em ./arquivos_baixados \n",
      "Salvando arquivo 25.03Sala-de-Acolhimento-Cuca-da-Barra-25.03.2021.pdf em ./arquivos_baixados \n",
      "Salvando arquivo 25.03Sala-de-Acolhimento-Cuca-Jos-Walter-25.03.2021.pdf em ./arquivos_baixados \n",
      "Salvando arquivo 25.03Sala-de-Acolhimento-Cuca-Mondubim-25.03.2021.pdf em ./arquivos_baixados \n",
      "Salvando arquivo 25.03Sala-de-Acolhimento-Cuca-Jangurussu-25.03.2021.pdf em ./arquivos_baixados \n",
      "Salvando arquivo 24.03Drive-Arena-Castelo-24.03.2021.pdf em ./arquivos_baixados \n",
      "Salvando arquivo 24.03DRIVE-CEC-24.03.2021.pdf em ./arquivos_baixados \n",
      "Salvando arquivo 24.03DRIVE-RIOMAR-FORTALEZA-PAPICU-24.03.2021.pdf em ./arquivos_baixados \n",
      "Salvando arquivo 24.03DRIVE-RIOMAR-KENNEDY-24.03.2021.pdf em ./arquivos_baixados \n",
      "Salvando arquivo 24.03Sala-de-Acolhimento-Cuca-da-Barra-24.03.2021.pdf em ./arquivos_baixados \n",
      "Salvando arquivo 24.03Sala-de-Aolhimento-Cuca-Jos-Walter-24.03.2021.pdf em ./arquivos_baixados \n",
      "Salvando arquivo 24.03Sala-de-Acolhimento-Cuca-Mondubim-24.03.2021.pdf em ./arquivos_baixados \n",
      "Salvando arquivo 24.03Sala-de-Acolhimento-Cuca-Jangurussu-24.03.2021.pdf em ./arquivos_baixados \n",
      "Salvando arquivo 23.03ARENA-CASTELAO-23032021.pdf em ./arquivos_baixados \n",
      "Salvando arquivo 23.03CENTRO-DE-EVENTOS-23032021.pdf em ./arquivos_baixados \n",
      "Salvando arquivo 23.03SHOPPING-RIOMAR-FORTALEZA-PAPICU-23032021.pdf em ./arquivos_baixados \n",
      "Salvando arquivo 23.03SHOPPING-RIOMAR-KENNEDY-23032021.pdf em ./arquivos_baixados \n",
      "Salvando arquivo 23.03CUCA-BARRA-23032021.pdf em ./arquivos_baixados \n",
      "Salvando arquivo 23.03CUCA-JOSE-WALTER-23032021.pdf em ./arquivos_baixados \n",
      "Salvando arquivo 23.03CUCA-MONDUBIM-23032021.pdf em ./arquivos_baixados \n",
      "Salvando arquivo 23.03CUCA-JANGURUSSU-23032021.pdf em ./arquivos_baixados \n",
      "Salvando arquivo 22.03Drive-Castelao-74-anos-22.03.2021.pdf em ./arquivos_baixados \n",
      "Salvando arquivo 22.03Drive-Centro-de-Eventos-74-anos-22.03.2021.pdf em ./arquivos_baixados \n",
      "Salvando arquivo 22.03Drive-Riomar-Fortaeza-Papicu-74-anos-22.03.2021.pdf em ./arquivos_baixados \n",
      "Salvando arquivo 22.03Drive-Riomar-Kennedy-74-anos-22.03.2021.pdf em ./arquivos_baixados \n",
      "Salvando arquivo 22.03Sala-de-Acolhimento-Cuca-da-Barra-74-anos-22.03.2021.pdf em ./arquivos_baixados \n",
      "Salvando arquivo 22.03Sala-de-Acolhimento-Cuca-Jose-Walter-74-anos-22.03.2021.pdf em ./arquivos_baixados \n",
      "Salvando arquivo 22.03Sala-de-acolhimento-Cuca-Mondubim-74-anos-22.03.2021.pdf em ./arquivos_baixados \n",
      "Salvando arquivo 22.03Sala-de-Acolhimento-Cuca-Jangurussa-74-anos-22.03.2021.pdf em ./arquivos_baixados \n",
      "Salvando arquivo Drive-Castelo-04.03.2021.pdf em ./arquivos_baixados \n",
      "Salvando arquivo Drive-Centro-de-Eventos-04.03.2021.pdf em ./arquivos_baixados \n",
      "Salvando arquivo Drive-Riomar-Kennedy-04.03.21.pdf em ./arquivos_baixados \n",
      "Salvando arquivo DRIVE_CASTELAO_03.03.2021.pdf em ./arquivos_baixados \n",
      "Salvando arquivo DRIVE_CENTRO_DE_EVENTOS_03.03.2021.pdf em ./arquivos_baixados \n",
      "Salvando arquivo DRIVE_RIOMAR_KENNEDY_03.03.2021.pdf em ./arquivos_baixados \n",
      "Salvando arquivo Drive-Castelo-02.03.21.pdf em ./arquivos_baixados \n",
      "Salvando arquivo Drive-Centro-de-Eventos-02.03.21.pdf em ./arquivos_baixados \n",
      "Salvando arquivo Drive-Riomar-Kennedy-02.03.21.pdf em ./arquivos_baixados \n",
      "Salvando arquivo Drive-Castelao-01.03.2021.pdf em ./arquivos_baixados \n",
      "Salvando arquivo Drive-Centro-de-Eventos-01.03.2021.pdf em ./arquivos_baixados \n",
      "Salvando arquivo Drive-Riomar-Kennedy-01.03.21.pdf em ./arquivos_baixados \n",
      "Salvando arquivo Drive_Castelao_28.02.2021.pdf em ./arquivos_baixados \n",
      "Salvando arquivo Drive_Centro_de_Eventos_28.02.2021.pdf em ./arquivos_baixados \n",
      "Salvando arquivo Drive_Riomar_Kennedy_28.02.2021.pdf em ./arquivos_baixados \n",
      "Salvando arquivo Drive-Castelo-27.02.2021.pdf em ./arquivos_baixados \n",
      "Salvando arquivo Drive-Riomar-Kennedy-27.02.2021.pdf em ./arquivos_baixados \n",
      "Salvando arquivo DRIVE-CEC-26.02.2021.pdf em ./arquivos_baixados \n",
      "Salvando arquivo DRIVE-RIOMAR-KENNEDY-26.02.2021.pdf em ./arquivos_baixados \n",
      "Salvando arquivo Drive-Castelo-18.02.2021.pdf em ./arquivos_baixados \n",
      "Salvando arquivo Drive-Riomar-Kennedy-18.02.2021.pdf em ./arquivos_baixados \n",
      "Salvando arquivo 17_02_2021_Drive_castel%C3%A3o_17_02.pdf em ./arquivos_baixados \n",
      "Salvando arquivo 17_02_2021_Drive_Riomar_Kennedy_17022021.pdf em ./arquivos_baixados \n",
      "Salvando arquivo 16_02_2021_Drive_castel%C3%A3o_16.02.2021.pdf em ./arquivos_baixados \n",
      "Salvando arquivo 16_02_2021_Drive_Riomar_kennedy_16.02.2021.pdf em ./arquivos_baixados \n",
      "Salvando arquivo 15_02_2021_Drive_CEC_15.02.2021.pdf em ./arquivos_baixados \n",
      "Salvando arquivo 15_02_2021_Drive_Castelao_15.02.2021.pdf em ./arquivos_baixados \n",
      "Salvando arquivo 15_02_2021_Drive_Iguatemi_15.02.2021.pdf em ./arquivos_baixados \n",
      "Salvando arquivo 15_02_2021_Drive_Riomar_Kennedy_15.02.2021.pdf em ./arquivos_baixados \n",
      "Salvando arquivo 14_02_2021_Drive_Castel%C3%A3o_14.02.2021.pdf em ./arquivos_baixados \n",
      "Salvando arquivo 14_02_2021_Drive_Iguatemi_14.02.2021.pdf em ./arquivos_baixados \n",
      "Salvando arquivo 14_02_2021_Drive_Riomar_Kennedy_14.02.2021.pdf em ./arquivos_baixados \n",
      "Salvando arquivo drivecentrodeeventos130220211613166143682.pdf em ./arquivos_baixados \n",
      "Salvando arquivo drivearenacastelao130220211613165962740.pdf em ./arquivos_baixados \n",
      "Salvando arquivo driveiguatemi130220211613166051352.pdf em ./arquivos_baixados \n",
      "Salvando arquivo driveriomarkennedy130220211613166100359.pdf em ./arquivos_baixados \n",
      "Salvando arquivo Drive-CEC-12.02.2021.pdf em ./arquivos_baixados \n",
      "Salvando arquivo Drive-Castelao-12.02.2021.pdf em ./arquivos_baixados \n",
      "Salvando arquivo Drive-Iguatemi-12.02.2021.pdf em ./arquivos_baixados \n",
      "Salvando arquivo Drive-Riomar-Kennedy-12.02.2021.pdf em ./arquivos_baixados \n",
      "Salvando arquivo listadrivecec110220211613001341441.pdf em ./arquivos_baixados \n",
      "Salvando arquivo listadrivecastelao110220211613001303941.pdf em ./arquivos_baixados \n",
      "Salvando arquivo LISTA-DRIVE-IGUATEMI-11022021.pdf em ./arquivos_baixados \n",
      "Salvando arquivo listadriveriomarkennedy110220211613001367401.pdf em ./arquivos_baixados \n",
      "Salvando arquivo listacec100220211612956920825.pdf em ./arquivos_baixados \n",
      "Salvando arquivo listacastelao100220211612956989310.pdf em ./arquivos_baixados \n",
      "Salvando arquivo listaiguatemi100220211612956961984.pdf em ./arquivos_baixados \n",
      "Salvando arquivo listapresken100220211612957034507.pdf em ./arquivos_baixados \n",
      "Salvando arquivo LISTA-CENTRO-DE-EVENTOS-09022021.pdf em ./arquivos_baixados \n",
      "Salvando arquivo LISTA-ESTDIO-CASTELO-09022021.pdf em ./arquivos_baixados \n",
      "Salvando arquivo LISTA%20DRIVE%20CENTRO%20DE%20EVENTOS%2008022021.pdf em ./arquivos_baixados \n"
     ]
    },
    {
     "ename": "HTTPError",
     "evalue": "HTTP Error 404: Categoria nÃ£o encontrada",
     "output_type": "error",
     "traceback": [
      "\u001b[0;31m---------------------------------------------------------------------------\u001b[0m",
      "\u001b[0;31mHTTPError\u001b[0m                                 Traceback (most recent call last)",
      "\u001b[0;32m<ipython-input-5-94a7fc22faa1>\u001b[0m in \u001b[0;36m<module>\u001b[0;34m\u001b[0m\n\u001b[1;32m      1\u001b[0m \u001b[0mlista_de_links\u001b[0m\u001b[0;34m=\u001b[0m\u001b[0mscrape_lista_de_pdf\u001b[0m\u001b[0;34m(\u001b[0m\u001b[0murl\u001b[0m\u001b[0;34m)\u001b[0m\u001b[0;34m\u001b[0m\u001b[0;34m\u001b[0m\u001b[0m\n\u001b[1;32m      2\u001b[0m \u001b[0;32mfor\u001b[0m \u001b[0mlink\u001b[0m \u001b[0;32min\u001b[0m \u001b[0mlista_de_links\u001b[0m\u001b[0;34m:\u001b[0m\u001b[0;34m\u001b[0m\u001b[0;34m\u001b[0m\u001b[0m\n\u001b[0;32m----> 3\u001b[0;31m     \u001b[0mdownload_arquivo\u001b[0m\u001b[0;34m(\u001b[0m\u001b[0mlink\u001b[0m\u001b[0;34m,\u001b[0m\u001b[0mpasta_de_download\u001b[0m\u001b[0;34m)\u001b[0m\u001b[0;34m\u001b[0m\u001b[0;34m\u001b[0m\u001b[0m\n\u001b[0m",
      "\u001b[0;32m<ipython-input-4-cb05fa4f5b6c>\u001b[0m in \u001b[0;36mdownload_arquivo\u001b[0;34m(url, pasta_de_download)\u001b[0m\n\u001b[1;32m     11\u001b[0m \u001b[0;34m\u001b[0m\u001b[0m\n\u001b[1;32m     12\u001b[0m     \u001b[0;32mif\u001b[0m \u001b[0;32mnot\u001b[0m \u001b[0mos\u001b[0m\u001b[0;34m.\u001b[0m\u001b[0mpath\u001b[0m\u001b[0;34m.\u001b[0m\u001b[0misfile\u001b[0m\u001b[0;34m(\u001b[0m\u001b[0marquivo\u001b[0m\u001b[0;34m)\u001b[0m\u001b[0;34m:\u001b[0m\u001b[0;34m\u001b[0m\u001b[0;34m\u001b[0m\u001b[0m\n\u001b[0;32m---> 13\u001b[0;31m         \u001b[0murllib\u001b[0m\u001b[0;34m.\u001b[0m\u001b[0mrequest\u001b[0m\u001b[0;34m.\u001b[0m\u001b[0murlretrieve\u001b[0m\u001b[0;34m(\u001b[0m\u001b[0murl\u001b[0m\u001b[0;34m,\u001b[0m \u001b[0marquivo\u001b[0m\u001b[0;34m)\u001b[0m\u001b[0;34m\u001b[0m\u001b[0;34m\u001b[0m\u001b[0m\n\u001b[0m\u001b[1;32m     14\u001b[0m \u001b[0;34m\u001b[0m\u001b[0m\n\u001b[1;32m     15\u001b[0m \u001b[0;34m\u001b[0m\u001b[0m\n",
      "\u001b[0;32m/usr/local/anaconda3/envs/agendacovid19/lib/python3.8/urllib/request.py\u001b[0m in \u001b[0;36murlretrieve\u001b[0;34m(url, filename, reporthook, data)\u001b[0m\n\u001b[1;32m    245\u001b[0m     \u001b[0murl_type\u001b[0m\u001b[0;34m,\u001b[0m \u001b[0mpath\u001b[0m \u001b[0;34m=\u001b[0m \u001b[0m_splittype\u001b[0m\u001b[0;34m(\u001b[0m\u001b[0murl\u001b[0m\u001b[0;34m)\u001b[0m\u001b[0;34m\u001b[0m\u001b[0;34m\u001b[0m\u001b[0m\n\u001b[1;32m    246\u001b[0m \u001b[0;34m\u001b[0m\u001b[0m\n\u001b[0;32m--> 247\u001b[0;31m     \u001b[0;32mwith\u001b[0m \u001b[0mcontextlib\u001b[0m\u001b[0;34m.\u001b[0m\u001b[0mclosing\u001b[0m\u001b[0;34m(\u001b[0m\u001b[0murlopen\u001b[0m\u001b[0;34m(\u001b[0m\u001b[0murl\u001b[0m\u001b[0;34m,\u001b[0m \u001b[0mdata\u001b[0m\u001b[0;34m)\u001b[0m\u001b[0;34m)\u001b[0m \u001b[0;32mas\u001b[0m \u001b[0mfp\u001b[0m\u001b[0;34m:\u001b[0m\u001b[0;34m\u001b[0m\u001b[0;34m\u001b[0m\u001b[0m\n\u001b[0m\u001b[1;32m    248\u001b[0m         \u001b[0mheaders\u001b[0m \u001b[0;34m=\u001b[0m \u001b[0mfp\u001b[0m\u001b[0;34m.\u001b[0m\u001b[0minfo\u001b[0m\u001b[0;34m(\u001b[0m\u001b[0;34m)\u001b[0m\u001b[0;34m\u001b[0m\u001b[0;34m\u001b[0m\u001b[0m\n\u001b[1;32m    249\u001b[0m \u001b[0;34m\u001b[0m\u001b[0m\n",
      "\u001b[0;32m/usr/local/anaconda3/envs/agendacovid19/lib/python3.8/urllib/request.py\u001b[0m in \u001b[0;36murlopen\u001b[0;34m(url, data, timeout, cafile, capath, cadefault, context)\u001b[0m\n\u001b[1;32m    220\u001b[0m     \u001b[0;32melse\u001b[0m\u001b[0;34m:\u001b[0m\u001b[0;34m\u001b[0m\u001b[0;34m\u001b[0m\u001b[0m\n\u001b[1;32m    221\u001b[0m         \u001b[0mopener\u001b[0m \u001b[0;34m=\u001b[0m \u001b[0m_opener\u001b[0m\u001b[0;34m\u001b[0m\u001b[0;34m\u001b[0m\u001b[0m\n\u001b[0;32m--> 222\u001b[0;31m     \u001b[0;32mreturn\u001b[0m \u001b[0mopener\u001b[0m\u001b[0;34m.\u001b[0m\u001b[0mopen\u001b[0m\u001b[0;34m(\u001b[0m\u001b[0murl\u001b[0m\u001b[0;34m,\u001b[0m \u001b[0mdata\u001b[0m\u001b[0;34m,\u001b[0m \u001b[0mtimeout\u001b[0m\u001b[0;34m)\u001b[0m\u001b[0;34m\u001b[0m\u001b[0;34m\u001b[0m\u001b[0m\n\u001b[0m\u001b[1;32m    223\u001b[0m \u001b[0;34m\u001b[0m\u001b[0m\n\u001b[1;32m    224\u001b[0m \u001b[0;32mdef\u001b[0m \u001b[0minstall_opener\u001b[0m\u001b[0;34m(\u001b[0m\u001b[0mopener\u001b[0m\u001b[0;34m)\u001b[0m\u001b[0;34m:\u001b[0m\u001b[0;34m\u001b[0m\u001b[0;34m\u001b[0m\u001b[0m\n",
      "\u001b[0;32m/usr/local/anaconda3/envs/agendacovid19/lib/python3.8/urllib/request.py\u001b[0m in \u001b[0;36mopen\u001b[0;34m(self, fullurl, data, timeout)\u001b[0m\n\u001b[1;32m    529\u001b[0m         \u001b[0;32mfor\u001b[0m \u001b[0mprocessor\u001b[0m \u001b[0;32min\u001b[0m \u001b[0mself\u001b[0m\u001b[0;34m.\u001b[0m\u001b[0mprocess_response\u001b[0m\u001b[0;34m.\u001b[0m\u001b[0mget\u001b[0m\u001b[0;34m(\u001b[0m\u001b[0mprotocol\u001b[0m\u001b[0;34m,\u001b[0m \u001b[0;34m[\u001b[0m\u001b[0;34m]\u001b[0m\u001b[0;34m)\u001b[0m\u001b[0;34m:\u001b[0m\u001b[0;34m\u001b[0m\u001b[0;34m\u001b[0m\u001b[0m\n\u001b[1;32m    530\u001b[0m             \u001b[0mmeth\u001b[0m \u001b[0;34m=\u001b[0m \u001b[0mgetattr\u001b[0m\u001b[0;34m(\u001b[0m\u001b[0mprocessor\u001b[0m\u001b[0;34m,\u001b[0m \u001b[0mmeth_name\u001b[0m\u001b[0;34m)\u001b[0m\u001b[0;34m\u001b[0m\u001b[0;34m\u001b[0m\u001b[0m\n\u001b[0;32m--> 531\u001b[0;31m             \u001b[0mresponse\u001b[0m \u001b[0;34m=\u001b[0m \u001b[0mmeth\u001b[0m\u001b[0;34m(\u001b[0m\u001b[0mreq\u001b[0m\u001b[0;34m,\u001b[0m \u001b[0mresponse\u001b[0m\u001b[0;34m)\u001b[0m\u001b[0;34m\u001b[0m\u001b[0;34m\u001b[0m\u001b[0m\n\u001b[0m\u001b[1;32m    532\u001b[0m \u001b[0;34m\u001b[0m\u001b[0m\n\u001b[1;32m    533\u001b[0m         \u001b[0;32mreturn\u001b[0m \u001b[0mresponse\u001b[0m\u001b[0;34m\u001b[0m\u001b[0;34m\u001b[0m\u001b[0m\n",
      "\u001b[0;32m/usr/local/anaconda3/envs/agendacovid19/lib/python3.8/urllib/request.py\u001b[0m in \u001b[0;36mhttp_response\u001b[0;34m(self, request, response)\u001b[0m\n\u001b[1;32m    638\u001b[0m         \u001b[0;31m# request was successfully received, understood, and accepted.\u001b[0m\u001b[0;34m\u001b[0m\u001b[0;34m\u001b[0m\u001b[0;34m\u001b[0m\u001b[0m\n\u001b[1;32m    639\u001b[0m         \u001b[0;32mif\u001b[0m \u001b[0;32mnot\u001b[0m \u001b[0;34m(\u001b[0m\u001b[0;36m200\u001b[0m \u001b[0;34m<=\u001b[0m \u001b[0mcode\u001b[0m \u001b[0;34m<\u001b[0m \u001b[0;36m300\u001b[0m\u001b[0;34m)\u001b[0m\u001b[0;34m:\u001b[0m\u001b[0;34m\u001b[0m\u001b[0;34m\u001b[0m\u001b[0m\n\u001b[0;32m--> 640\u001b[0;31m             response = self.parent.error(\n\u001b[0m\u001b[1;32m    641\u001b[0m                 'http', request, response, code, msg, hdrs)\n\u001b[1;32m    642\u001b[0m \u001b[0;34m\u001b[0m\u001b[0m\n",
      "\u001b[0;32m/usr/local/anaconda3/envs/agendacovid19/lib/python3.8/urllib/request.py\u001b[0m in \u001b[0;36merror\u001b[0;34m(self, proto, *args)\u001b[0m\n\u001b[1;32m    567\u001b[0m         \u001b[0;32mif\u001b[0m \u001b[0mhttp_err\u001b[0m\u001b[0;34m:\u001b[0m\u001b[0;34m\u001b[0m\u001b[0;34m\u001b[0m\u001b[0m\n\u001b[1;32m    568\u001b[0m             \u001b[0margs\u001b[0m \u001b[0;34m=\u001b[0m \u001b[0;34m(\u001b[0m\u001b[0mdict\u001b[0m\u001b[0;34m,\u001b[0m \u001b[0;34m'default'\u001b[0m\u001b[0;34m,\u001b[0m \u001b[0;34m'http_error_default'\u001b[0m\u001b[0;34m)\u001b[0m \u001b[0;34m+\u001b[0m \u001b[0morig_args\u001b[0m\u001b[0;34m\u001b[0m\u001b[0;34m\u001b[0m\u001b[0m\n\u001b[0;32m--> 569\u001b[0;31m             \u001b[0;32mreturn\u001b[0m \u001b[0mself\u001b[0m\u001b[0;34m.\u001b[0m\u001b[0m_call_chain\u001b[0m\u001b[0;34m(\u001b[0m\u001b[0;34m*\u001b[0m\u001b[0margs\u001b[0m\u001b[0;34m)\u001b[0m\u001b[0;34m\u001b[0m\u001b[0;34m\u001b[0m\u001b[0m\n\u001b[0m\u001b[1;32m    570\u001b[0m \u001b[0;34m\u001b[0m\u001b[0m\n\u001b[1;32m    571\u001b[0m \u001b[0;31m# XXX probably also want an abstract factory that knows when it makes\u001b[0m\u001b[0;34m\u001b[0m\u001b[0;34m\u001b[0m\u001b[0;34m\u001b[0m\u001b[0m\n",
      "\u001b[0;32m/usr/local/anaconda3/envs/agendacovid19/lib/python3.8/urllib/request.py\u001b[0m in \u001b[0;36m_call_chain\u001b[0;34m(self, chain, kind, meth_name, *args)\u001b[0m\n\u001b[1;32m    500\u001b[0m         \u001b[0;32mfor\u001b[0m \u001b[0mhandler\u001b[0m \u001b[0;32min\u001b[0m \u001b[0mhandlers\u001b[0m\u001b[0;34m:\u001b[0m\u001b[0;34m\u001b[0m\u001b[0;34m\u001b[0m\u001b[0m\n\u001b[1;32m    501\u001b[0m             \u001b[0mfunc\u001b[0m \u001b[0;34m=\u001b[0m \u001b[0mgetattr\u001b[0m\u001b[0;34m(\u001b[0m\u001b[0mhandler\u001b[0m\u001b[0;34m,\u001b[0m \u001b[0mmeth_name\u001b[0m\u001b[0;34m)\u001b[0m\u001b[0;34m\u001b[0m\u001b[0;34m\u001b[0m\u001b[0m\n\u001b[0;32m--> 502\u001b[0;31m             \u001b[0mresult\u001b[0m \u001b[0;34m=\u001b[0m \u001b[0mfunc\u001b[0m\u001b[0;34m(\u001b[0m\u001b[0;34m*\u001b[0m\u001b[0margs\u001b[0m\u001b[0;34m)\u001b[0m\u001b[0;34m\u001b[0m\u001b[0;34m\u001b[0m\u001b[0m\n\u001b[0m\u001b[1;32m    503\u001b[0m             \u001b[0;32mif\u001b[0m \u001b[0mresult\u001b[0m \u001b[0;32mis\u001b[0m \u001b[0;32mnot\u001b[0m \u001b[0;32mNone\u001b[0m\u001b[0;34m:\u001b[0m\u001b[0;34m\u001b[0m\u001b[0;34m\u001b[0m\u001b[0m\n\u001b[1;32m    504\u001b[0m                 \u001b[0;32mreturn\u001b[0m \u001b[0mresult\u001b[0m\u001b[0;34m\u001b[0m\u001b[0;34m\u001b[0m\u001b[0m\n",
      "\u001b[0;32m/usr/local/anaconda3/envs/agendacovid19/lib/python3.8/urllib/request.py\u001b[0m in \u001b[0;36mhttp_error_default\u001b[0;34m(self, req, fp, code, msg, hdrs)\u001b[0m\n\u001b[1;32m    647\u001b[0m \u001b[0;32mclass\u001b[0m \u001b[0mHTTPDefaultErrorHandler\u001b[0m\u001b[0;34m(\u001b[0m\u001b[0mBaseHandler\u001b[0m\u001b[0;34m)\u001b[0m\u001b[0;34m:\u001b[0m\u001b[0;34m\u001b[0m\u001b[0;34m\u001b[0m\u001b[0m\n\u001b[1;32m    648\u001b[0m     \u001b[0;32mdef\u001b[0m \u001b[0mhttp_error_default\u001b[0m\u001b[0;34m(\u001b[0m\u001b[0mself\u001b[0m\u001b[0;34m,\u001b[0m \u001b[0mreq\u001b[0m\u001b[0;34m,\u001b[0m \u001b[0mfp\u001b[0m\u001b[0;34m,\u001b[0m \u001b[0mcode\u001b[0m\u001b[0;34m,\u001b[0m \u001b[0mmsg\u001b[0m\u001b[0;34m,\u001b[0m \u001b[0mhdrs\u001b[0m\u001b[0;34m)\u001b[0m\u001b[0;34m:\u001b[0m\u001b[0;34m\u001b[0m\u001b[0;34m\u001b[0m\u001b[0m\n\u001b[0;32m--> 649\u001b[0;31m         \u001b[0;32mraise\u001b[0m \u001b[0mHTTPError\u001b[0m\u001b[0;34m(\u001b[0m\u001b[0mreq\u001b[0m\u001b[0;34m.\u001b[0m\u001b[0mfull_url\u001b[0m\u001b[0;34m,\u001b[0m \u001b[0mcode\u001b[0m\u001b[0;34m,\u001b[0m \u001b[0mmsg\u001b[0m\u001b[0;34m,\u001b[0m \u001b[0mhdrs\u001b[0m\u001b[0;34m,\u001b[0m \u001b[0mfp\u001b[0m\u001b[0;34m)\u001b[0m\u001b[0;34m\u001b[0m\u001b[0;34m\u001b[0m\u001b[0m\n\u001b[0m\u001b[1;32m    650\u001b[0m \u001b[0;34m\u001b[0m\u001b[0m\n\u001b[1;32m    651\u001b[0m \u001b[0;32mclass\u001b[0m \u001b[0mHTTPRedirectHandler\u001b[0m\u001b[0;34m(\u001b[0m\u001b[0mBaseHandler\u001b[0m\u001b[0;34m)\u001b[0m\u001b[0;34m:\u001b[0m\u001b[0;34m\u001b[0m\u001b[0;34m\u001b[0m\u001b[0m\n",
      "\u001b[0;31mHTTPError\u001b[0m: HTTP Error 404: Categoria nÃ£o encontrada"
     ]
    }
   ],
   "source": [
    "lista_de_links=scrape_lista_de_pdf(url)\n",
    "for link in lista_de_links:\n",
    "    download_arquivo(link,pasta_de_download)"
   ]
  },
  {
   "cell_type": "code",
   "execution_count": 6,
   "metadata": {},
   "outputs": [],
   "source": [
    "def procura_nome(arquivo, termo_de_busca):\n",
    "    object = PyPDF2.PdfFileReader(arquivo)\n",
    "    NumPages = object.getNumPages()\n",
    "    # extract text and do the search\n",
    "    for i in range(0, NumPages):\n",
    "        PageObj = object.getPage(i)\n",
    "        Text = PageObj.extractText() \n",
    "        # print(Text)\n",
    "        ResSearch = re.search(termo_de_busca, Text)\n",
    "        if termo_de_busca in str(ResSearch):            \n",
    "            print(\"{} encontrado na página 1 do arquivo \\\"{}\\\"\".format(termo_de_busca,arquivo))\n",
    "            break"
   ]
  },
  {
   "cell_type": "code",
   "execution_count": 8,
   "metadata": {},
   "outputs": [],
   "source": [
    "arquivos_pdf = os.listdir(pasta_de_download)\n",
    "for arquivo in arquivos_pdf:\n",
    "    caminho = pasta_de_download + \"/\" + arquivo\n",
    "#     print(caminho)\n",
    "    procura_nome(caminho, 'ABIGAIL LEITE RAMALHO')"
   ]
  },
  {
   "cell_type": "markdown",
   "metadata": {},
   "source": [
    "\n",
    "\n"
   ]
  }
 ],
 "metadata": {
  "kernelspec": {
   "display_name": "Python 3",
   "language": "python",
   "name": "python3"
  },
  "language_info": {
   "codemirror_mode": {
    "name": "ipython",
    "version": 3
   },
   "file_extension": ".py",
   "mimetype": "text/x-python",
   "name": "python",
   "nbconvert_exporter": "python",
   "pygments_lexer": "ipython3",
   "version": "3.8.8"
  }
 },
 "nbformat": 4,
 "nbformat_minor": 4
}
